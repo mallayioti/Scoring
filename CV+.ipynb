{
 "cells": [
  {
   "cell_type": "markdown",
   "id": "499858b5",
   "metadata": {},
   "source": [
    "# CV+ : Generating Confidence Intervals for Regression Models "
   ]
  },
  {
   "cell_type": "markdown",
   "id": "15d7fd4b",
   "metadata": {},
   "source": [
    "- Paper can be found here: https://projecteuclid.org/journals/annals-of-statistics/volume-49/issue-1/Predictive-inference-with-the-jackknife/10.1214/20-AOS1965.full\n",
    "- In this notebook we use Jackknife+ (that's a special category of CV+) "
   ]
  },
  {
   "cell_type": "markdown",
   "id": "95f4f257",
   "metadata": {},
   "source": [
    "Import packages "
   ]
  },
  {
   "cell_type": "code",
   "execution_count": 25,
   "id": "f5d64897",
   "metadata": {},
   "outputs": [],
   "source": [
    "import numpy as np\n",
    "import pandas as pd\n",
    "from sklearn.model_selection import train_test_split, KFold\n",
    "from sklearn.linear_model import LinearRegression\n",
    "from typing import Dict\n",
    "import torch\n",
    "import json\n",
    "from sklearn.tree import DecisionTreeRegressor\n",
    "import matplotlib.pyplot as plt\n",
    "from sklearn.metrics import f1_score, roc_auc_score, log_loss\n",
    "from scipy.stats import pointbiserialr\n",
    "from sklearn.preprocessing import MinMaxScaler\n",
    "from sklearn.ensemble import GradientBoostingRegressor \n",
    "import sklearn.gaussian_process as gp\n",
    "from scipy.stats import pearsonr\n",
    "import pickle"
   ]
  },
  {
   "cell_type": "markdown",
   "id": "229754b8",
   "metadata": {},
   "source": [
    "Read data "
   ]
  },
  {
   "cell_type": "code",
   "execution_count": 3,
   "id": "9992c5f4",
   "metadata": {},
   "outputs": [
    {
     "name": "stdout",
     "output_type": "stream",
     "text": [
      "786\n",
      "(786, 32)\n"
     ]
    }
   ],
   "source": [
    "X_train = np.load('/Users/mariaallayioti/Desktop/cognomotiv/CV+ data/output/X_train_down.npy')\n",
    "print(len(X_train))\n",
    "print(X_train.shape)"
   ]
  },
  {
   "cell_type": "code",
   "execution_count": 4,
   "id": "d0c29fbe",
   "metadata": {},
   "outputs": [
    {
     "data": {
      "text/plain": [
       "786"
      ]
     },
     "execution_count": 4,
     "metadata": {},
     "output_type": "execute_result"
    }
   ],
   "source": [
    "y_train = np.load('/Users/mariaallayioti/Desktop/cognomotiv/CV+ data/output/Y_train.npy')\n",
    "len(y_train)"
   ]
  },
  {
   "cell_type": "code",
   "execution_count": 5,
   "id": "fa6c2256",
   "metadata": {},
   "outputs": [
    {
     "name": "stdout",
     "output_type": "stream",
     "text": [
      "394\n",
      "(394, 32)\n"
     ]
    }
   ],
   "source": [
    "X_test = np.load('/Users/mariaallayioti/Desktop/cognomotiv/CV+ data/output/X_test_down.npy')\n",
    "print(len(X_test))\n",
    "print(X_test.shape)"
   ]
  },
  {
   "cell_type": "code",
   "execution_count": 6,
   "id": "47835129",
   "metadata": {},
   "outputs": [
    {
     "data": {
      "text/plain": [
       "394"
      ]
     },
     "execution_count": 6,
     "metadata": {},
     "output_type": "execute_result"
    }
   ],
   "source": [
    "y_test = np.load('/Users/mariaallayioti/Desktop/cognomotiv/CV+ data/output/Y_test.npy')\n",
    "len(y_test)"
   ]
  },
  {
   "cell_type": "code",
   "execution_count": 7,
   "id": "355bc739",
   "metadata": {},
   "outputs": [
    {
     "data": {
      "text/plain": [
       "(1180, 32)"
      ]
     },
     "execution_count": 7,
     "metadata": {},
     "output_type": "execute_result"
    }
   ],
   "source": [
    "X_infer = np.load('/Users/mariaallayioti/Desktop/cognomotiv/CV+ data/infer/X_down.npy')\n",
    "X_infer.shape"
   ]
  },
  {
   "cell_type": "code",
   "execution_count": 8,
   "id": "093ab3fd",
   "metadata": {},
   "outputs": [],
   "source": [
    "parquet_file_path_1 = '/Users/mariaallayioti/Desktop/cognomotiv/CV+ data/output/train/pred/LinearRegression_pred.parquet'\n",
    "LR_train_pred = pd.read_parquet(parquet_file_path_1)\n",
    "\n",
    "parquet_file_path_2 = '/Users/mariaallayioti/Desktop/cognomotiv/CV+ data/output/train/pred/DecisionTreeRegressor_pred.parquet'\n",
    "DT_train_pred = pd.read_parquet(parquet_file_path_2)\n",
    "\n",
    "parquet_file_path_3 = '/Users/mariaallayioti/Desktop/cognomotiv/CV+ data/output/train/pred/GaussianProcessRegressor_pred.parquet'\n",
    "GP_train_pred = pd.read_parquet(parquet_file_path_3)\n",
    "\n",
    "parquet_file_path_4 = '/Users/mariaallayioti/Desktop/cognomotiv/CV+ data/output/train/pred/GradientBoostingRegressor_pred.parquet'\n",
    "GB_train_pred = pd.read_parquet(parquet_file_path_4)\n",
    "\n",
    "parquet_file_path_5 = '/Users/mariaallayioti/Desktop/cognomotiv/CV+ data/output/test/pred/LinearRegression_pred.parquet'\n",
    "LR_test_pred = pd.read_parquet(parquet_file_path_5)\n",
    "\n",
    "parquet_file_path_6 = '/Users/mariaallayioti/Desktop/cognomotiv/CV+ data/output/test/pred/DecisionTreeRegressor_pred.parquet'\n",
    "DT_test_pred = pd.read_parquet(parquet_file_path_6)\n",
    "\n",
    "parquet_file_path_7 = '/Users/mariaallayioti/Desktop/cognomotiv/CV+ data/output/test/pred/GaussianProcessRegressor_pred.parquet'\n",
    "GP_test_pred = pd.read_parquet(parquet_file_path_7)\n",
    "\n",
    "parquet_file_path_8 = '/Users/mariaallayioti/Desktop/cognomotiv/CV+ data/output/test/pred/GradientBoostingRegressor_pred.parquet'\n",
    "GB_test_pred = pd.read_parquet(parquet_file_path_8)"
   ]
  },
  {
   "cell_type": "markdown",
   "id": "0e5d77ef",
   "metadata": {},
   "source": [
    "Create dataframes (to check ids, not used below) "
   ]
  },
  {
   "cell_type": "code",
   "execution_count": 9,
   "id": "f3c1b6ee",
   "metadata": {},
   "outputs": [],
   "source": [
    "ID_train = LR_train_pred.id.tolist()\n",
    "ID_test = LR_test_pred.id.tolist()"
   ]
  },
  {
   "cell_type": "code",
   "execution_count": 10,
   "id": "e33eea2e",
   "metadata": {},
   "outputs": [],
   "source": [
    "X_train_df = pd.DataFrame(X_train, index = ID_train)\n",
    "X_test_df = pd.DataFrame(X_test, index = ID_test)"
   ]
  },
  {
   "cell_type": "code",
   "execution_count": 11,
   "id": "47de74c3",
   "metadata": {},
   "outputs": [
    {
     "data": {
      "text/html": [
       "<div>\n",
       "<style scoped>\n",
       "    .dataframe tbody tr th:only-of-type {\n",
       "        vertical-align: middle;\n",
       "    }\n",
       "\n",
       "    .dataframe tbody tr th {\n",
       "        vertical-align: top;\n",
       "    }\n",
       "\n",
       "    .dataframe thead th {\n",
       "        text-align: right;\n",
       "    }\n",
       "</style>\n",
       "<table border=\"1\" class=\"dataframe\">\n",
       "  <thead>\n",
       "    <tr style=\"text-align: right;\">\n",
       "      <th></th>\n",
       "      <th>0</th>\n",
       "      <th>1</th>\n",
       "      <th>2</th>\n",
       "      <th>3</th>\n",
       "      <th>4</th>\n",
       "      <th>5</th>\n",
       "      <th>6</th>\n",
       "      <th>7</th>\n",
       "      <th>8</th>\n",
       "      <th>9</th>\n",
       "      <th>...</th>\n",
       "      <th>22</th>\n",
       "      <th>23</th>\n",
       "      <th>24</th>\n",
       "      <th>25</th>\n",
       "      <th>26</th>\n",
       "      <th>27</th>\n",
       "      <th>28</th>\n",
       "      <th>29</th>\n",
       "      <th>30</th>\n",
       "      <th>31</th>\n",
       "    </tr>\n",
       "  </thead>\n",
       "  <tbody>\n",
       "    <tr>\n",
       "      <th>c481acc59f0f0e698d04e0fe325fa692</th>\n",
       "      <td>0.565611</td>\n",
       "      <td>0.757384</td>\n",
       "      <td>0.858853</td>\n",
       "      <td>0.928508</td>\n",
       "      <td>0.362339</td>\n",
       "      <td>1.026386</td>\n",
       "      <td>0.829142</td>\n",
       "      <td>0.409454</td>\n",
       "      <td>0.291805</td>\n",
       "      <td>0.422199</td>\n",
       "      <td>...</td>\n",
       "      <td>1.150984</td>\n",
       "      <td>0.786143</td>\n",
       "      <td>0.996132</td>\n",
       "      <td>0.634093</td>\n",
       "      <td>0.641087</td>\n",
       "      <td>0.995256</td>\n",
       "      <td>1.198004</td>\n",
       "      <td>0.682721</td>\n",
       "      <td>1.159029</td>\n",
       "      <td>0.245273</td>\n",
       "    </tr>\n",
       "    <tr>\n",
       "      <th>a4191724bebe613c66fa499af5634dfe</th>\n",
       "      <td>0.532769</td>\n",
       "      <td>0.699586</td>\n",
       "      <td>0.912806</td>\n",
       "      <td>0.585746</td>\n",
       "      <td>0.406417</td>\n",
       "      <td>0.973662</td>\n",
       "      <td>0.691562</td>\n",
       "      <td>0.344478</td>\n",
       "      <td>0.376626</td>\n",
       "      <td>0.498074</td>\n",
       "      <td>...</td>\n",
       "      <td>1.133332</td>\n",
       "      <td>0.801222</td>\n",
       "      <td>0.926708</td>\n",
       "      <td>0.656522</td>\n",
       "      <td>0.870397</td>\n",
       "      <td>1.005266</td>\n",
       "      <td>1.204890</td>\n",
       "      <td>0.669139</td>\n",
       "      <td>1.138568</td>\n",
       "      <td>0.360737</td>\n",
       "    </tr>\n",
       "    <tr>\n",
       "      <th>6d4d6ccf414e5f4cf819ee78063a2602</th>\n",
       "      <td>0.613626</td>\n",
       "      <td>0.869569</td>\n",
       "      <td>0.881032</td>\n",
       "      <td>1.183805</td>\n",
       "      <td>0.571007</td>\n",
       "      <td>0.986950</td>\n",
       "      <td>1.162453</td>\n",
       "      <td>0.871060</td>\n",
       "      <td>0.283986</td>\n",
       "      <td>0.759909</td>\n",
       "      <td>...</td>\n",
       "      <td>0.847948</td>\n",
       "      <td>0.797715</td>\n",
       "      <td>1.269641</td>\n",
       "      <td>0.979631</td>\n",
       "      <td>0.787883</td>\n",
       "      <td>0.684844</td>\n",
       "      <td>1.120300</td>\n",
       "      <td>0.743933</td>\n",
       "      <td>0.897906</td>\n",
       "      <td>0.789778</td>\n",
       "    </tr>\n",
       "    <tr>\n",
       "      <th>39658674a6b51c105bd2598a0e0f7382</th>\n",
       "      <td>0.536421</td>\n",
       "      <td>0.909928</td>\n",
       "      <td>0.943332</td>\n",
       "      <td>0.045565</td>\n",
       "      <td>0.484423</td>\n",
       "      <td>0.915467</td>\n",
       "      <td>0.288440</td>\n",
       "      <td>0.410115</td>\n",
       "      <td>0.418913</td>\n",
       "      <td>0.734451</td>\n",
       "      <td>...</td>\n",
       "      <td>0.999188</td>\n",
       "      <td>0.770594</td>\n",
       "      <td>0.116019</td>\n",
       "      <td>0.781434</td>\n",
       "      <td>0.948525</td>\n",
       "      <td>0.736040</td>\n",
       "      <td>1.179656</td>\n",
       "      <td>0.436505</td>\n",
       "      <td>0.834596</td>\n",
       "      <td>0.401228</td>\n",
       "    </tr>\n",
       "    <tr>\n",
       "      <th>f6d605428adebc218b63a6e1e8c03b55</th>\n",
       "      <td>0.536299</td>\n",
       "      <td>0.890219</td>\n",
       "      <td>0.933273</td>\n",
       "      <td>-0.005956</td>\n",
       "      <td>0.459916</td>\n",
       "      <td>0.890739</td>\n",
       "      <td>0.200492</td>\n",
       "      <td>0.406411</td>\n",
       "      <td>0.432546</td>\n",
       "      <td>0.712370</td>\n",
       "      <td>...</td>\n",
       "      <td>0.932055</td>\n",
       "      <td>0.769993</td>\n",
       "      <td>0.085408</td>\n",
       "      <td>0.787078</td>\n",
       "      <td>0.954107</td>\n",
       "      <td>0.813751</td>\n",
       "      <td>1.189179</td>\n",
       "      <td>0.391057</td>\n",
       "      <td>0.827726</td>\n",
       "      <td>0.465548</td>\n",
       "    </tr>\n",
       "  </tbody>\n",
       "</table>\n",
       "<p>5 rows × 32 columns</p>\n",
       "</div>"
      ],
      "text/plain": [
       "                                        0         1         2         3   \\\n",
       "c481acc59f0f0e698d04e0fe325fa692  0.565611  0.757384  0.858853  0.928508   \n",
       "a4191724bebe613c66fa499af5634dfe  0.532769  0.699586  0.912806  0.585746   \n",
       "6d4d6ccf414e5f4cf819ee78063a2602  0.613626  0.869569  0.881032  1.183805   \n",
       "39658674a6b51c105bd2598a0e0f7382  0.536421  0.909928  0.943332  0.045565   \n",
       "f6d605428adebc218b63a6e1e8c03b55  0.536299  0.890219  0.933273 -0.005956   \n",
       "\n",
       "                                        4         5         6         7   \\\n",
       "c481acc59f0f0e698d04e0fe325fa692  0.362339  1.026386  0.829142  0.409454   \n",
       "a4191724bebe613c66fa499af5634dfe  0.406417  0.973662  0.691562  0.344478   \n",
       "6d4d6ccf414e5f4cf819ee78063a2602  0.571007  0.986950  1.162453  0.871060   \n",
       "39658674a6b51c105bd2598a0e0f7382  0.484423  0.915467  0.288440  0.410115   \n",
       "f6d605428adebc218b63a6e1e8c03b55  0.459916  0.890739  0.200492  0.406411   \n",
       "\n",
       "                                        8         9   ...        22        23  \\\n",
       "c481acc59f0f0e698d04e0fe325fa692  0.291805  0.422199  ...  1.150984  0.786143   \n",
       "a4191724bebe613c66fa499af5634dfe  0.376626  0.498074  ...  1.133332  0.801222   \n",
       "6d4d6ccf414e5f4cf819ee78063a2602  0.283986  0.759909  ...  0.847948  0.797715   \n",
       "39658674a6b51c105bd2598a0e0f7382  0.418913  0.734451  ...  0.999188  0.770594   \n",
       "f6d605428adebc218b63a6e1e8c03b55  0.432546  0.712370  ...  0.932055  0.769993   \n",
       "\n",
       "                                        24        25        26        27  \\\n",
       "c481acc59f0f0e698d04e0fe325fa692  0.996132  0.634093  0.641087  0.995256   \n",
       "a4191724bebe613c66fa499af5634dfe  0.926708  0.656522  0.870397  1.005266   \n",
       "6d4d6ccf414e5f4cf819ee78063a2602  1.269641  0.979631  0.787883  0.684844   \n",
       "39658674a6b51c105bd2598a0e0f7382  0.116019  0.781434  0.948525  0.736040   \n",
       "f6d605428adebc218b63a6e1e8c03b55  0.085408  0.787078  0.954107  0.813751   \n",
       "\n",
       "                                        28        29        30        31  \n",
       "c481acc59f0f0e698d04e0fe325fa692  1.198004  0.682721  1.159029  0.245273  \n",
       "a4191724bebe613c66fa499af5634dfe  1.204890  0.669139  1.138568  0.360737  \n",
       "6d4d6ccf414e5f4cf819ee78063a2602  1.120300  0.743933  0.897906  0.789778  \n",
       "39658674a6b51c105bd2598a0e0f7382  1.179656  0.436505  0.834596  0.401228  \n",
       "f6d605428adebc218b63a6e1e8c03b55  1.189179  0.391057  0.827726  0.465548  \n",
       "\n",
       "[5 rows x 32 columns]"
      ]
     },
     "execution_count": 11,
     "metadata": {},
     "output_type": "execute_result"
    }
   ],
   "source": [
    "X_train_df.head()"
   ]
  },
  {
   "cell_type": "code",
   "execution_count": 12,
   "id": "aa294f95",
   "metadata": {},
   "outputs": [],
   "source": [
    "X_train_df.to_pickle('X_train_rul.pkl')"
   ]
  },
  {
   "cell_type": "code",
   "execution_count": 13,
   "id": "26b0c0bc",
   "metadata": {},
   "outputs": [],
   "source": [
    "X_test_df.to_pickle('X_test_rul.pkl')"
   ]
  },
  {
   "cell_type": "code",
   "execution_count": 29,
   "id": "409ed8ba",
   "metadata": {},
   "outputs": [],
   "source": [
    "y_train_list = np.array(LR_train_pred['prediction'])\n",
    "y_test_list = np.array(LR_test_pred['prediction'])"
   ]
  },
  {
   "cell_type": "code",
   "execution_count": 30,
   "id": "f8239160",
   "metadata": {},
   "outputs": [],
   "source": [
    "with open('y_train_rul.pkl', 'wb') as file:\n",
    "    pickle.dump(y_train_list, file)\n",
    "with open('y_test_rul.pkl', 'wb') as file:\n",
    "    pickle.dump(y_test_list, file)"
   ]
  },
  {
   "cell_type": "markdown",
   "id": "ba28f7bf",
   "metadata": {},
   "source": [
    "Jackknife+"
   ]
  },
  {
   "cell_type": "code",
   "execution_count": 879,
   "id": "a3cd1621",
   "metadata": {},
   "outputs": [],
   "source": [
    "kernel = gp.kernels.ConstantKernel(1.0, (1e-1, 1e3)) * gp.kernels.RBF(10.0, (1e-3, 1e3))\n",
    "\n",
    "model_1 = DecisionTreeRegressor(min_samples_leaf=5, random_state = 0)\n",
    "model_2 = gp.GaussianProcessRegressor(kernel=kernel, n_restarts_optimizer=10, alpha=0.2, normalize_y=True, random_state = 0)\n",
    "model_3 = GradientBoostingRegressor(n_estimators=200, learning_rate=0.1, max_depth=2, random_state=0,loss='squared_error')"
   ]
  },
  {
   "cell_type": "code",
   "execution_count": 880,
   "id": "98f5433f",
   "metadata": {},
   "outputs": [],
   "source": [
    "# K-fold CV (LOO)\n",
    "# Get K predictions for each X_test instance (one for each of the K models fitted in K-fold CV)\n",
    "# Calculate the residuals for each X_train instance (using the model for which the instance was unseen)\n",
    "# Get K predictions for each instance in X_infer\n",
    "\n",
    "def CV_plus(test_data, CIM_model):\n",
    "    kf = KFold(n_splits=len(y_train), shuffle=True, random_state=42)\n",
    "    res = []\n",
    "    arrays = []\n",
    "    estimators = []\n",
    "\n",
    "    for train_index, test_index in kf.split(X_train):\n",
    "        X_train_, X_test_ = X_train[train_index], X_train[test_index]\n",
    "        y_train_, y_test_ = y_train[train_index], y_train[test_index]\n",
    "        print(y_test_)\n",
    "        model = CIM_model\n",
    "        model.fit(X_train_, y_train_)\n",
    "        test_preds = model.predict(test_data)\n",
    "        arr = np.array(test_preds).reshape(-1, 1)\n",
    "        arrays.append(arr)\n",
    "        res.extend(list(y_test_ - model.predict(X_test_)))\n",
    "    \n",
    "    y_pred_multi = np.hstack(arrays)\n",
    "    res  = [abs(x) for x in res]\n",
    "    \n",
    "    return y_pred_multi, res"
   ]
  },
  {
   "cell_type": "code",
   "execution_count": 881,
   "id": "23f5dc76",
   "metadata": {},
   "outputs": [
    {
     "name": "stdout",
     "output_type": "stream",
     "text": [
      "(394, 786)\n",
      "(1180, 786)\n"
     ]
    }
   ],
   "source": [
    "print(y_pred_multi_test.shape)\n",
    "print(y_pred_multi_infer.shape)"
   ]
  },
  {
   "cell_type": "code",
   "execution_count": 882,
   "id": "576f6cc7",
   "metadata": {},
   "outputs": [],
   "source": [
    "# Find the lower and upper bounds of the CI\n",
    "\n",
    "def CI_bounds(alpha, preds, res):\n",
    "    top = []\n",
    "    bottom = []\n",
    "    for i in range(preds.shape[0]):\n",
    "        top.append(np.quantile(preds[i] + res, 1 - alpha))\n",
    "        bottom.append(np.quantile(preds[i] - res, alpha))\n",
    "    return bottom, top\n",
    "        \n",
    "alpha = 0.20"
   ]
  },
  {
   "cell_type": "code",
   "execution_count": 883,
   "id": "54b756b7",
   "metadata": {},
   "outputs": [],
   "source": [
    "[bottom_test, top_test] = CI_bounds(alpha, y_pred_multi_test, res_test)\n",
    "[bottom_infer, top_infer] = CI_bounds(alpha, y_pred_multi_infer, res_infer)"
   ]
  },
  {
   "cell_type": "code",
   "execution_count": 824,
   "id": "3aaa5e0e",
   "metadata": {},
   "outputs": [
    {
     "data": {
      "text/plain": [
       "394"
      ]
     },
     "execution_count": 824,
     "metadata": {},
     "output_type": "execute_result"
    }
   ],
   "source": [
    "len(top_test)"
   ]
  },
  {
   "cell_type": "code",
   "execution_count": 884,
   "id": "406fbce8",
   "metadata": {},
   "outputs": [],
   "source": [
    "# Create a dataframe the the median prediction of each inference set's instance and CI\n",
    "# Add columns for width of CI, normalized width, and the new chase factor \n",
    "\n",
    "def CI_dataframe(bottom, top, y_pred):\n",
    "    preds = []\n",
    "    for i in range(y_pred.shape[0]):\n",
    "        preds.append(np.median(y_pred[i]))\n",
    "    df = pd.DataFrame()\n",
    "    df['lower'] = bottom\n",
    "    df['pred'] = preds\n",
    "    df['upper'] = top\n",
    "    df['width'] = df['upper'] - df['lower']\n",
    "    scaler = MinMaxScaler()\n",
    "    df['norm_width'] = scaler.fit_transform(df[['width']])\n",
    "    #df['norm_width'] = df['width'] / df['width'].max()\n",
    "    df['chase_width'] = 1 - df['norm_width']\n",
    "    return df"
   ]
  },
  {
   "cell_type": "code",
   "execution_count": 885,
   "id": "60a7f4d4",
   "metadata": {},
   "outputs": [
    {
     "name": "stderr",
     "output_type": "stream",
     "text": [
      "/Users/mariaallayioti/anaconda3/lib/python3.11/site-packages/sklearn/utils/validation.py:767: FutureWarning: is_sparse is deprecated and will be removed in a future version. Check `isinstance(dtype, pd.SparseDtype)` instead.\n",
      "  if not hasattr(array, \"sparse\") and array.dtypes.apply(is_sparse).any():\n",
      "/Users/mariaallayioti/anaconda3/lib/python3.11/site-packages/sklearn/utils/validation.py:605: FutureWarning: is_sparse is deprecated and will be removed in a future version. Check `isinstance(dtype, pd.SparseDtype)` instead.\n",
      "  if is_sparse(pd_dtype):\n",
      "/Users/mariaallayioti/anaconda3/lib/python3.11/site-packages/sklearn/utils/validation.py:614: FutureWarning: is_sparse is deprecated and will be removed in a future version. Check `isinstance(dtype, pd.SparseDtype)` instead.\n",
      "  if is_sparse(pd_dtype) or not is_extension_array_dtype(pd_dtype):\n",
      "/Users/mariaallayioti/anaconda3/lib/python3.11/site-packages/sklearn/utils/validation.py:767: FutureWarning: is_sparse is deprecated and will be removed in a future version. Check `isinstance(dtype, pd.SparseDtype)` instead.\n",
      "  if not hasattr(array, \"sparse\") and array.dtypes.apply(is_sparse).any():\n",
      "/Users/mariaallayioti/anaconda3/lib/python3.11/site-packages/sklearn/utils/validation.py:605: FutureWarning: is_sparse is deprecated and will be removed in a future version. Check `isinstance(dtype, pd.SparseDtype)` instead.\n",
      "  if is_sparse(pd_dtype):\n",
      "/Users/mariaallayioti/anaconda3/lib/python3.11/site-packages/sklearn/utils/validation.py:614: FutureWarning: is_sparse is deprecated and will be removed in a future version. Check `isinstance(dtype, pd.SparseDtype)` instead.\n",
      "  if is_sparse(pd_dtype) or not is_extension_array_dtype(pd_dtype):\n",
      "/Users/mariaallayioti/anaconda3/lib/python3.11/site-packages/sklearn/utils/validation.py:767: FutureWarning: is_sparse is deprecated and will be removed in a future version. Check `isinstance(dtype, pd.SparseDtype)` instead.\n",
      "  if not hasattr(array, \"sparse\") and array.dtypes.apply(is_sparse).any():\n",
      "/Users/mariaallayioti/anaconda3/lib/python3.11/site-packages/sklearn/utils/validation.py:605: FutureWarning: is_sparse is deprecated and will be removed in a future version. Check `isinstance(dtype, pd.SparseDtype)` instead.\n",
      "  if is_sparse(pd_dtype):\n",
      "/Users/mariaallayioti/anaconda3/lib/python3.11/site-packages/sklearn/utils/validation.py:614: FutureWarning: is_sparse is deprecated and will be removed in a future version. Check `isinstance(dtype, pd.SparseDtype)` instead.\n",
      "  if is_sparse(pd_dtype) or not is_extension_array_dtype(pd_dtype):\n",
      "/Users/mariaallayioti/anaconda3/lib/python3.11/site-packages/sklearn/utils/validation.py:767: FutureWarning: is_sparse is deprecated and will be removed in a future version. Check `isinstance(dtype, pd.SparseDtype)` instead.\n",
      "  if not hasattr(array, \"sparse\") and array.dtypes.apply(is_sparse).any():\n",
      "/Users/mariaallayioti/anaconda3/lib/python3.11/site-packages/sklearn/utils/validation.py:605: FutureWarning: is_sparse is deprecated and will be removed in a future version. Check `isinstance(dtype, pd.SparseDtype)` instead.\n",
      "  if is_sparse(pd_dtype):\n",
      "/Users/mariaallayioti/anaconda3/lib/python3.11/site-packages/sklearn/utils/validation.py:614: FutureWarning: is_sparse is deprecated and will be removed in a future version. Check `isinstance(dtype, pd.SparseDtype)` instead.\n",
      "  if is_sparse(pd_dtype) or not is_extension_array_dtype(pd_dtype):\n"
     ]
    }
   ],
   "source": [
    "test_CI_df = CI_dataframe(bottom_test, top_test, y_pred_multi_test)\n",
    "infer_CI_df = CI_dataframe(bottom_infer, top_infer, y_pred_multi_infer)"
   ]
  },
  {
   "cell_type": "code",
   "execution_count": 886,
   "id": "3479e1ed",
   "metadata": {},
   "outputs": [
    {
     "data": {
      "text/html": [
       "<div>\n",
       "<style scoped>\n",
       "    .dataframe tbody tr th:only-of-type {\n",
       "        vertical-align: middle;\n",
       "    }\n",
       "\n",
       "    .dataframe tbody tr th {\n",
       "        vertical-align: top;\n",
       "    }\n",
       "\n",
       "    .dataframe thead th {\n",
       "        text-align: right;\n",
       "    }\n",
       "</style>\n",
       "<table border=\"1\" class=\"dataframe\">\n",
       "  <thead>\n",
       "    <tr style=\"text-align: right;\">\n",
       "      <th></th>\n",
       "      <th>lower</th>\n",
       "      <th>pred</th>\n",
       "      <th>upper</th>\n",
       "      <th>width</th>\n",
       "      <th>norm_width</th>\n",
       "      <th>chase_width</th>\n",
       "    </tr>\n",
       "  </thead>\n",
       "  <tbody>\n",
       "    <tr>\n",
       "      <th>0</th>\n",
       "      <td>-77.556667</td>\n",
       "      <td>287.183333</td>\n",
       "      <td>656.240000</td>\n",
       "      <td>733.796667</td>\n",
       "      <td>0.071186</td>\n",
       "      <td>0.928814</td>\n",
       "    </tr>\n",
       "    <tr>\n",
       "      <th>1</th>\n",
       "      <td>-160.456667</td>\n",
       "      <td>204.283333</td>\n",
       "      <td>573.263333</td>\n",
       "      <td>733.720000</td>\n",
       "      <td>0.070843</td>\n",
       "      <td>0.929157</td>\n",
       "    </tr>\n",
       "    <tr>\n",
       "      <th>2</th>\n",
       "      <td>531.115000</td>\n",
       "      <td>928.640000</td>\n",
       "      <td>1282.623333</td>\n",
       "      <td>751.508333</td>\n",
       "      <td>0.150423</td>\n",
       "      <td>0.849577</td>\n",
       "    </tr>\n",
       "    <tr>\n",
       "      <th>3</th>\n",
       "      <td>-275.777143</td>\n",
       "      <td>87.542857</td>\n",
       "      <td>452.282857</td>\n",
       "      <td>728.060000</td>\n",
       "      <td>0.045522</td>\n",
       "      <td>0.954478</td>\n",
       "    </tr>\n",
       "    <tr>\n",
       "      <th>4</th>\n",
       "      <td>574.985000</td>\n",
       "      <td>976.757143</td>\n",
       "      <td>1322.517143</td>\n",
       "      <td>747.532143</td>\n",
       "      <td>0.132635</td>\n",
       "      <td>0.867365</td>\n",
       "    </tr>\n",
       "    <tr>\n",
       "      <th>...</th>\n",
       "      <td>...</td>\n",
       "      <td>...</td>\n",
       "      <td>...</td>\n",
       "      <td>...</td>\n",
       "      <td>...</td>\n",
       "      <td>...</td>\n",
       "    </tr>\n",
       "    <tr>\n",
       "      <th>389</th>\n",
       "      <td>-180.040000</td>\n",
       "      <td>184.700000</td>\n",
       "      <td>549.440000</td>\n",
       "      <td>729.480000</td>\n",
       "      <td>0.051875</td>\n",
       "      <td>0.948125</td>\n",
       "    </tr>\n",
       "    <tr>\n",
       "      <th>390</th>\n",
       "      <td>-234.040000</td>\n",
       "      <td>132.820000</td>\n",
       "      <td>497.560000</td>\n",
       "      <td>731.600000</td>\n",
       "      <td>0.061359</td>\n",
       "      <td>0.938641</td>\n",
       "    </tr>\n",
       "    <tr>\n",
       "      <th>391</th>\n",
       "      <td>1001.166667</td>\n",
       "      <td>1413.500000</td>\n",
       "      <td>1732.477778</td>\n",
       "      <td>731.311111</td>\n",
       "      <td>0.060067</td>\n",
       "      <td>0.939933</td>\n",
       "    </tr>\n",
       "    <tr>\n",
       "      <th>392</th>\n",
       "      <td>300.800000</td>\n",
       "      <td>625.720000</td>\n",
       "      <td>1036.142222</td>\n",
       "      <td>735.342222</td>\n",
       "      <td>0.078101</td>\n",
       "      <td>0.921899</td>\n",
       "    </tr>\n",
       "    <tr>\n",
       "      <th>393</th>\n",
       "      <td>-250.390000</td>\n",
       "      <td>114.350000</td>\n",
       "      <td>479.090000</td>\n",
       "      <td>729.480000</td>\n",
       "      <td>0.051875</td>\n",
       "      <td>0.948125</td>\n",
       "    </tr>\n",
       "  </tbody>\n",
       "</table>\n",
       "<p>394 rows × 6 columns</p>\n",
       "</div>"
      ],
      "text/plain": [
       "           lower         pred        upper       width  norm_width  \\\n",
       "0     -77.556667   287.183333   656.240000  733.796667    0.071186   \n",
       "1    -160.456667   204.283333   573.263333  733.720000    0.070843   \n",
       "2     531.115000   928.640000  1282.623333  751.508333    0.150423   \n",
       "3    -275.777143    87.542857   452.282857  728.060000    0.045522   \n",
       "4     574.985000   976.757143  1322.517143  747.532143    0.132635   \n",
       "..           ...          ...          ...         ...         ...   \n",
       "389  -180.040000   184.700000   549.440000  729.480000    0.051875   \n",
       "390  -234.040000   132.820000   497.560000  731.600000    0.061359   \n",
       "391  1001.166667  1413.500000  1732.477778  731.311111    0.060067   \n",
       "392   300.800000   625.720000  1036.142222  735.342222    0.078101   \n",
       "393  -250.390000   114.350000   479.090000  729.480000    0.051875   \n",
       "\n",
       "     chase_width  \n",
       "0       0.928814  \n",
       "1       0.929157  \n",
       "2       0.849577  \n",
       "3       0.954478  \n",
       "4       0.867365  \n",
       "..           ...  \n",
       "389     0.948125  \n",
       "390     0.938641  \n",
       "391     0.939933  \n",
       "392     0.921899  \n",
       "393     0.948125  \n",
       "\n",
       "[394 rows x 6 columns]"
      ]
     },
     "execution_count": 886,
     "metadata": {},
     "output_type": "execute_result"
    }
   ],
   "source": [
    "test_CI_df"
   ]
  },
  {
   "cell_type": "code",
   "execution_count": 887,
   "id": "54299273",
   "metadata": {},
   "outputs": [
    {
     "name": "stdout",
     "output_type": "stream",
     "text": [
      "        lower        pred        upper       width  norm_width  chase_width\n",
      "0  -77.556667  287.183333   656.240000  733.796667    0.071186     0.928814\n",
      "1 -160.456667  204.283333   573.263333  733.720000    0.070843     0.929157\n",
      "2  531.115000  928.640000  1282.623333  751.508333    0.150423     0.849577\n",
      "3 -275.777143   87.542857   452.282857  728.060000    0.045522     0.954478\n",
      "4  574.985000  976.757143  1322.517143  747.532143    0.132635     0.867365\n"
     ]
    },
    {
     "data": {
      "image/png": "[encoded data removed]",
      "text/plain": [
       "<Figure size 640x480 with 1 Axes>"
      ]
     },
     "metadata": {},
     "output_type": "display_data"
    }
   ],
   "source": [
    "print(test_CI_df.head())\n",
    "test_CI_df.width.hist();"
   ]
  },
  {
   "cell_type": "code",
   "execution_count": 888,
   "id": "26f15b2d",
   "metadata": {},
   "outputs": [
    {
     "data": {
      "image/png": "[encoded data removed]",
      "text/plain": [
       "<Figure size 640x480 with 1 Axes>"
      ]
     },
     "metadata": {},
     "output_type": "display_data"
    }
   ],
   "source": [
    "test_CI_df.norm_width.hist();"
   ]
  },
  {
   "cell_type": "code",
   "execution_count": 889,
   "id": "03e7d5a5",
   "metadata": {},
   "outputs": [
    {
     "name": "stdout",
     "output_type": "stream",
     "text": [
      "         lower         pred        upper       width  norm_width  chase_width\n",
      "0  1104.427500  1502.587500  1867.327500  762.900000    0.670516     0.329484\n",
      "1   -17.220000   346.100000   728.980000  746.200000    0.349115     0.650885\n",
      "2  1104.427500  1502.587500  1869.447500  765.020000    0.711316     0.288684\n",
      "3  1234.143333  1642.383333  1986.423333  752.280000    0.466128     0.533872\n",
      "4  1124.404167  1502.587500  1869.851429  745.447262    0.334628     0.665372\n"
     ]
    },
    {
     "data": {
      "image/png": "[encoded data removed]",
      "text/plain": [
       "<Figure size 640x480 with 1 Axes>"
      ]
     },
     "metadata": {},
     "output_type": "display_data"
    }
   ],
   "source": [
    "print(infer_CI_df.head())\n",
    "infer_CI_df.width.hist();"
   ]
  },
  {
   "cell_type": "code",
   "execution_count": 890,
   "id": "0164e888",
   "metadata": {},
   "outputs": [
    {
     "data": {
      "image/png": "[encoded data removed]",
      "text/plain": [
       "<Figure size 640x480 with 1 Axes>"
      ]
     },
     "metadata": {},
     "output_type": "display_data"
    }
   ],
   "source": [
    "infer_CI_df.chase_width.hist();"
   ]
  },
  {
   "cell_type": "markdown",
   "id": "b3c9030b",
   "metadata": {},
   "source": [
    "Assurance scores"
   ]
  },
  {
   "cell_type": "markdown",
   "id": "1e5dcda0",
   "metadata": {},
   "source": [
    "- Inference results dataframe (CIM output) with added column for chase width"
   ]
  },
  {
   "cell_type": "code",
   "execution_count": 833,
   "id": "4bfdaa08",
   "metadata": {},
   "outputs": [
    {
     "data": {
      "text/html": [
       "<div>\n",
       "<style scoped>\n",
       "    .dataframe tbody tr th:only-of-type {\n",
       "        vertical-align: middle;\n",
       "    }\n",
       "\n",
       "    .dataframe tbody tr th {\n",
       "        vertical-align: top;\n",
       "    }\n",
       "\n",
       "    .dataframe thead th {\n",
       "        text-align: right;\n",
       "    }\n",
       "</style>\n",
       "<table border=\"1\" class=\"dataframe\">\n",
       "  <thead>\n",
       "    <tr style=\"text-align: right;\">\n",
       "      <th></th>\n",
       "      <th>id</th>\n",
       "      <th>prediction</th>\n",
       "      <th>mae</th>\n",
       "      <th>r_square</th>\n",
       "      <th>pred_clf</th>\n",
       "      <th>pred_f1</th>\n",
       "      <th>pred_prec</th>\n",
       "      <th>pred_recall</th>\n",
       "      <th>pred_clf_chase</th>\n",
       "      <th>nearest_cls</th>\n",
       "      <th>cls_error</th>\n",
       "      <th>error_norm</th>\n",
       "      <th>cert</th>\n",
       "      <th>has_labels</th>\n",
       "      <th>output_confidence</th>\n",
       "      <th>chase_width</th>\n",
       "    </tr>\n",
       "  </thead>\n",
       "  <tbody>\n",
       "    <tr>\n",
       "      <th>0</th>\n",
       "      <td>000d12d90e60dffc0882ff778c39552f</td>\n",
       "      <td>1533.040000</td>\n",
       "      <td>249.04244</td>\n",
       "      <td>0.278313</td>\n",
       "      <td>1</td>\n",
       "      <td>0.664311</td>\n",
       "      <td>0.587500</td>\n",
       "      <td>0.764228</td>\n",
       "      <td>51</td>\n",
       "      <td>51</td>\n",
       "      <td>696.866667</td>\n",
       "      <td>0.381845</td>\n",
       "      <td>0.618155</td>\n",
       "      <td>False</td>\n",
       "      <td></td>\n",
       "      <td>0.194055</td>\n",
       "    </tr>\n",
       "    <tr>\n",
       "      <th>1</th>\n",
       "      <td>003b5ecb4894f10800533d739efef579</td>\n",
       "      <td>270.755556</td>\n",
       "      <td>249.04244</td>\n",
       "      <td>0.278313</td>\n",
       "      <td>0</td>\n",
       "      <td>0.811881</td>\n",
       "      <td>0.876068</td>\n",
       "      <td>0.756458</td>\n",
       "      <td>9</td>\n",
       "      <td>9</td>\n",
       "      <td>251.868762</td>\n",
       "      <td>0.138010</td>\n",
       "      <td>0.861990</td>\n",
       "      <td>False</td>\n",
       "      <td></td>\n",
       "      <td>0.341422</td>\n",
       "    </tr>\n",
       "    <tr>\n",
       "      <th>2</th>\n",
       "      <td>00529bea3c2a1004fa830ba4c091c0bf</td>\n",
       "      <td>1533.040000</td>\n",
       "      <td>249.04244</td>\n",
       "      <td>0.278313</td>\n",
       "      <td>1</td>\n",
       "      <td>0.664311</td>\n",
       "      <td>0.587500</td>\n",
       "      <td>0.764228</td>\n",
       "      <td>51</td>\n",
       "      <td>51</td>\n",
       "      <td>696.866667</td>\n",
       "      <td>0.381845</td>\n",
       "      <td>0.618155</td>\n",
       "      <td>False</td>\n",
       "      <td></td>\n",
       "      <td>0.079334</td>\n",
       "    </tr>\n",
       "    <tr>\n",
       "      <th>3</th>\n",
       "      <td>00adb45c9b76590eee9a1f6457e750a1</td>\n",
       "      <td>732.400000</td>\n",
       "      <td>249.04244</td>\n",
       "      <td>0.278313</td>\n",
       "      <td>1</td>\n",
       "      <td>0.664311</td>\n",
       "      <td>0.587500</td>\n",
       "      <td>0.764228</td>\n",
       "      <td>24</td>\n",
       "      <td>23</td>\n",
       "      <td>277.510000</td>\n",
       "      <td>0.152060</td>\n",
       "      <td>0.847940</td>\n",
       "      <td>False</td>\n",
       "      <td></td>\n",
       "      <td>0.342388</td>\n",
       "    </tr>\n",
       "    <tr>\n",
       "      <th>4</th>\n",
       "      <td>00e6352e39107e028b62aab5c3c70fe8</td>\n",
       "      <td>518.966667</td>\n",
       "      <td>249.04244</td>\n",
       "      <td>0.278313</td>\n",
       "      <td>1</td>\n",
       "      <td>0.664311</td>\n",
       "      <td>0.587500</td>\n",
       "      <td>0.764228</td>\n",
       "      <td>17</td>\n",
       "      <td>17</td>\n",
       "      <td>368.716944</td>\n",
       "      <td>0.202037</td>\n",
       "      <td>0.797963</td>\n",
       "      <td>False</td>\n",
       "      <td></td>\n",
       "      <td>0.210763</td>\n",
       "    </tr>\n",
       "  </tbody>\n",
       "</table>\n",
       "</div>"
      ],
      "text/plain": [
       "                                 id   prediction        mae  r_square  \\\n",
       "0  000d12d90e60dffc0882ff778c39552f  1533.040000  249.04244  0.278313   \n",
       "1  003b5ecb4894f10800533d739efef579   270.755556  249.04244  0.278313   \n",
       "2  00529bea3c2a1004fa830ba4c091c0bf  1533.040000  249.04244  0.278313   \n",
       "3  00adb45c9b76590eee9a1f6457e750a1   732.400000  249.04244  0.278313   \n",
       "4  00e6352e39107e028b62aab5c3c70fe8   518.966667  249.04244  0.278313   \n",
       "\n",
       "   pred_clf   pred_f1  pred_prec  pred_recall  pred_clf_chase  nearest_cls  \\\n",
       "0         1  0.664311   0.587500     0.764228              51           51   \n",
       "1         0  0.811881   0.876068     0.756458               9            9   \n",
       "2         1  0.664311   0.587500     0.764228              51           51   \n",
       "3         1  0.664311   0.587500     0.764228              24           23   \n",
       "4         1  0.664311   0.587500     0.764228              17           17   \n",
       "\n",
       "    cls_error  error_norm      cert  has_labels output_confidence  chase_width  \n",
       "0  696.866667    0.381845  0.618155       False                       0.194055  \n",
       "1  251.868762    0.138010  0.861990       False                       0.341422  \n",
       "2  696.866667    0.381845  0.618155       False                       0.079334  \n",
       "3  277.510000    0.152060  0.847940       False                       0.342388  \n",
       "4  368.716944    0.202037  0.797963       False                       0.210763  "
      ]
     },
     "execution_count": 833,
     "metadata": {},
     "output_type": "execute_result"
    }
   ],
   "source": [
    "parquet_file_infer = '/Users/mariaallayioti/Desktop/cognomotiv/CV+/infer/DecisionTreeRegressor_pred.parquet'\n",
    "#parquet_file_infer = '/Users/mariaallayioti/Desktop/cognomotiv/CV+/infer/GaussianProcessRegressor_pred.parquet'\n",
    "\n",
    "infer_results = pd.read_parquet(parquet_file_infer)\n",
    "infer_results['chase_width'] = infer_CI_df['chase_width']\n",
    "infer_results.head()"
   ]
  },
  {
   "cell_type": "markdown",
   "id": "088e1871",
   "metadata": {},
   "source": [
    "- New dataframe that includes the ground truth for inference dataset (column 'lifetime')"
   ]
  },
  {
   "cell_type": "code",
   "execution_count": 834,
   "id": "5650d978",
   "metadata": {},
   "outputs": [
    {
     "name": "stdout",
     "output_type": "stream",
     "text": [
      "(1180, 17)\n"
     ]
    },
    {
     "data": {
      "text/html": [
       "<div>\n",
       "<style scoped>\n",
       "    .dataframe tbody tr th:only-of-type {\n",
       "        vertical-align: middle;\n",
       "    }\n",
       "\n",
       "    .dataframe tbody tr th {\n",
       "        vertical-align: top;\n",
       "    }\n",
       "\n",
       "    .dataframe thead th {\n",
       "        text-align: right;\n",
       "    }\n",
       "</style>\n",
       "<table border=\"1\" class=\"dataframe\">\n",
       "  <thead>\n",
       "    <tr style=\"text-align: right;\">\n",
       "      <th></th>\n",
       "      <th>id</th>\n",
       "      <th>prediction</th>\n",
       "      <th>mae</th>\n",
       "      <th>r_square</th>\n",
       "      <th>pred_clf</th>\n",
       "      <th>pred_f1</th>\n",
       "      <th>pred_prec</th>\n",
       "      <th>pred_recall</th>\n",
       "      <th>pred_clf_chase</th>\n",
       "      <th>nearest_cls</th>\n",
       "      <th>cls_error</th>\n",
       "      <th>error_norm</th>\n",
       "      <th>cert</th>\n",
       "      <th>has_labels</th>\n",
       "      <th>output_confidence</th>\n",
       "      <th>chase_width</th>\n",
       "      <th>lifetime</th>\n",
       "    </tr>\n",
       "  </thead>\n",
       "  <tbody>\n",
       "    <tr>\n",
       "      <th>0</th>\n",
       "      <td>000d12d90e60dffc0882ff778c39552f</td>\n",
       "      <td>1533.040000</td>\n",
       "      <td>249.04244</td>\n",
       "      <td>0.278313</td>\n",
       "      <td>1</td>\n",
       "      <td>0.664311</td>\n",
       "      <td>0.587500</td>\n",
       "      <td>0.764228</td>\n",
       "      <td>51</td>\n",
       "      <td>51</td>\n",
       "      <td>696.866667</td>\n",
       "      <td>0.381845</td>\n",
       "      <td>0.618155</td>\n",
       "      <td>False</td>\n",
       "      <td></td>\n",
       "      <td>0.194055</td>\n",
       "      <td>1539.7</td>\n",
       "    </tr>\n",
       "    <tr>\n",
       "      <th>1</th>\n",
       "      <td>003b5ecb4894f10800533d739efef579</td>\n",
       "      <td>270.755556</td>\n",
       "      <td>249.04244</td>\n",
       "      <td>0.278313</td>\n",
       "      <td>0</td>\n",
       "      <td>0.811881</td>\n",
       "      <td>0.876068</td>\n",
       "      <td>0.756458</td>\n",
       "      <td>9</td>\n",
       "      <td>9</td>\n",
       "      <td>251.868762</td>\n",
       "      <td>0.138010</td>\n",
       "      <td>0.861990</td>\n",
       "      <td>False</td>\n",
       "      <td></td>\n",
       "      <td>0.341422</td>\n",
       "      <td>616.8</td>\n",
       "    </tr>\n",
       "    <tr>\n",
       "      <th>2</th>\n",
       "      <td>00529bea3c2a1004fa830ba4c091c0bf</td>\n",
       "      <td>1533.040000</td>\n",
       "      <td>249.04244</td>\n",
       "      <td>0.278313</td>\n",
       "      <td>1</td>\n",
       "      <td>0.664311</td>\n",
       "      <td>0.587500</td>\n",
       "      <td>0.764228</td>\n",
       "      <td>51</td>\n",
       "      <td>51</td>\n",
       "      <td>696.866667</td>\n",
       "      <td>0.381845</td>\n",
       "      <td>0.618155</td>\n",
       "      <td>False</td>\n",
       "      <td></td>\n",
       "      <td>0.079334</td>\n",
       "      <td>870.2</td>\n",
       "    </tr>\n",
       "    <tr>\n",
       "      <th>3</th>\n",
       "      <td>00adb45c9b76590eee9a1f6457e750a1</td>\n",
       "      <td>732.400000</td>\n",
       "      <td>249.04244</td>\n",
       "      <td>0.278313</td>\n",
       "      <td>1</td>\n",
       "      <td>0.664311</td>\n",
       "      <td>0.587500</td>\n",
       "      <td>0.764228</td>\n",
       "      <td>24</td>\n",
       "      <td>23</td>\n",
       "      <td>277.510000</td>\n",
       "      <td>0.152060</td>\n",
       "      <td>0.847940</td>\n",
       "      <td>False</td>\n",
       "      <td></td>\n",
       "      <td>0.342388</td>\n",
       "      <td>334.6</td>\n",
       "    </tr>\n",
       "    <tr>\n",
       "      <th>4</th>\n",
       "      <td>00e6352e39107e028b62aab5c3c70fe8</td>\n",
       "      <td>518.966667</td>\n",
       "      <td>249.04244</td>\n",
       "      <td>0.278313</td>\n",
       "      <td>1</td>\n",
       "      <td>0.664311</td>\n",
       "      <td>0.587500</td>\n",
       "      <td>0.764228</td>\n",
       "      <td>17</td>\n",
       "      <td>17</td>\n",
       "      <td>368.716944</td>\n",
       "      <td>0.202037</td>\n",
       "      <td>0.797963</td>\n",
       "      <td>False</td>\n",
       "      <td></td>\n",
       "      <td>0.210763</td>\n",
       "      <td>16.5</td>\n",
       "    </tr>\n",
       "  </tbody>\n",
       "</table>\n",
       "</div>"
      ],
      "text/plain": [
       "                                 id   prediction        mae  r_square  \\\n",
       "0  000d12d90e60dffc0882ff778c39552f  1533.040000  249.04244  0.278313   \n",
       "1  003b5ecb4894f10800533d739efef579   270.755556  249.04244  0.278313   \n",
       "2  00529bea3c2a1004fa830ba4c091c0bf  1533.040000  249.04244  0.278313   \n",
       "3  00adb45c9b76590eee9a1f6457e750a1   732.400000  249.04244  0.278313   \n",
       "4  00e6352e39107e028b62aab5c3c70fe8   518.966667  249.04244  0.278313   \n",
       "\n",
       "   pred_clf   pred_f1  pred_prec  pred_recall  pred_clf_chase  nearest_cls  \\\n",
       "0         1  0.664311   0.587500     0.764228              51           51   \n",
       "1         0  0.811881   0.876068     0.756458               9            9   \n",
       "2         1  0.664311   0.587500     0.764228              51           51   \n",
       "3         1  0.664311   0.587500     0.764228              24           23   \n",
       "4         1  0.664311   0.587500     0.764228              17           17   \n",
       "\n",
       "    cls_error  error_norm      cert  has_labels output_confidence  \\\n",
       "0  696.866667    0.381845  0.618155       False                     \n",
       "1  251.868762    0.138010  0.861990       False                     \n",
       "2  696.866667    0.381845  0.618155       False                     \n",
       "3  277.510000    0.152060  0.847940       False                     \n",
       "4  368.716944    0.202037  0.797963       False                     \n",
       "\n",
       "   chase_width  lifetime  \n",
       "0     0.194055    1539.7  \n",
       "1     0.341422     616.8  \n",
       "2     0.079334     870.2  \n",
       "3     0.342388     334.6  \n",
       "4     0.210763      16.5  "
      ]
     },
     "execution_count": 834,
     "metadata": {},
     "output_type": "execute_result"
    }
   ],
   "source": [
    "infer_raw_csv = '/Users/mariaallayioti/Desktop/cognomotiv/CV+/infer/Aging_DCGAN_NoAging_NormalOnly_10000_ETL_WIN200_2.csv'\n",
    "infer_raw = pd.read_csv(infer_raw_csv)\n",
    "true_label = infer_raw[['id','lifetime']].drop_duplicates()\n",
    "chase_true = pd.merge(infer_results, true_label, on = 'id', how = 'inner')\n",
    "print(chase_true.shape)\n",
    "chase_true.head()"
   ]
  },
  {
   "cell_type": "markdown",
   "id": "30d9543b",
   "metadata": {},
   "source": [
    "- Test results dataframe with added column for chase width"
   ]
  },
  {
   "cell_type": "code",
   "execution_count": 891,
   "id": "4cdbf674",
   "metadata": {},
   "outputs": [
    {
     "data": {
      "text/html": [
       "<div>\n",
       "<style scoped>\n",
       "    .dataframe tbody tr th:only-of-type {\n",
       "        vertical-align: middle;\n",
       "    }\n",
       "\n",
       "    .dataframe tbody tr th {\n",
       "        vertical-align: top;\n",
       "    }\n",
       "\n",
       "    .dataframe thead th {\n",
       "        text-align: right;\n",
       "    }\n",
       "</style>\n",
       "<table border=\"1\" class=\"dataframe\">\n",
       "  <thead>\n",
       "    <tr style=\"text-align: right;\">\n",
       "      <th></th>\n",
       "      <th>id</th>\n",
       "      <th>prediction</th>\n",
       "      <th>y_true</th>\n",
       "      <th>abs_error</th>\n",
       "      <th>mae</th>\n",
       "      <th>r_square</th>\n",
       "      <th>true_clf</th>\n",
       "      <th>pred_clf</th>\n",
       "      <th>true_clf_chase</th>\n",
       "      <th>chase_width</th>\n",
       "    </tr>\n",
       "  </thead>\n",
       "  <tbody>\n",
       "    <tr>\n",
       "      <th>0</th>\n",
       "      <td>ef2cafcf89930de7582b85fbc2317a24</td>\n",
       "      <td>287.183333</td>\n",
       "      <td>320.4</td>\n",
       "      <td>33.216667</td>\n",
       "      <td>213.800769</td>\n",
       "      <td>0.333438</td>\n",
       "      <td>0</td>\n",
       "      <td>0</td>\n",
       "      <td>10</td>\n",
       "      <td>0.928814</td>\n",
       "    </tr>\n",
       "    <tr>\n",
       "      <th>1</th>\n",
       "      <td>60bd4034b11e497b282193140494d6fb</td>\n",
       "      <td>204.283333</td>\n",
       "      <td>239.7</td>\n",
       "      <td>35.416667</td>\n",
       "      <td>213.800769</td>\n",
       "      <td>0.333438</td>\n",
       "      <td>0</td>\n",
       "      <td>0</td>\n",
       "      <td>7</td>\n",
       "      <td>0.929157</td>\n",
       "    </tr>\n",
       "    <tr>\n",
       "      <th>2</th>\n",
       "      <td>ee9b13417fe6028c20e8503602b9641d</td>\n",
       "      <td>928.640000</td>\n",
       "      <td>314.9</td>\n",
       "      <td>613.740000</td>\n",
       "      <td>213.800769</td>\n",
       "      <td>0.333438</td>\n",
       "      <td>0</td>\n",
       "      <td>1</td>\n",
       "      <td>10</td>\n",
       "      <td>0.849577</td>\n",
       "    </tr>\n",
       "    <tr>\n",
       "      <th>3</th>\n",
       "      <td>acb56c76fd284576a3e459d4c5fcb0ec</td>\n",
       "      <td>87.542857</td>\n",
       "      <td>97.1</td>\n",
       "      <td>9.557143</td>\n",
       "      <td>213.800769</td>\n",
       "      <td>0.333438</td>\n",
       "      <td>0</td>\n",
       "      <td>0</td>\n",
       "      <td>3</td>\n",
       "      <td>0.954478</td>\n",
       "    </tr>\n",
       "    <tr>\n",
       "      <th>4</th>\n",
       "      <td>b46d6b20c8574739406dd99a66b1a9da</td>\n",
       "      <td>976.757143</td>\n",
       "      <td>897.8</td>\n",
       "      <td>78.957143</td>\n",
       "      <td>213.800769</td>\n",
       "      <td>0.333438</td>\n",
       "      <td>1</td>\n",
       "      <td>1</td>\n",
       "      <td>29</td>\n",
       "      <td>0.867365</td>\n",
       "    </tr>\n",
       "  </tbody>\n",
       "</table>\n",
       "</div>"
      ],
      "text/plain": [
       "                                 id  prediction  y_true   abs_error  \\\n",
       "0  ef2cafcf89930de7582b85fbc2317a24  287.183333   320.4   33.216667   \n",
       "1  60bd4034b11e497b282193140494d6fb  204.283333   239.7   35.416667   \n",
       "2  ee9b13417fe6028c20e8503602b9641d  928.640000   314.9  613.740000   \n",
       "3  acb56c76fd284576a3e459d4c5fcb0ec   87.542857    97.1    9.557143   \n",
       "4  b46d6b20c8574739406dd99a66b1a9da  976.757143   897.8   78.957143   \n",
       "\n",
       "          mae  r_square  true_clf  pred_clf  true_clf_chase  chase_width  \n",
       "0  213.800769  0.333438         0         0              10     0.928814  \n",
       "1  213.800769  0.333438         0         0               7     0.929157  \n",
       "2  213.800769  0.333438         0         1              10     0.849577  \n",
       "3  213.800769  0.333438         0         0               3     0.954478  \n",
       "4  213.800769  0.333438         1         1              29     0.867365  "
      ]
     },
     "execution_count": 891,
     "metadata": {},
     "output_type": "execute_result"
    }
   ],
   "source": [
    "DT_test_pred['chase_width'] = test_CI_df['chase_width']\n",
    "DT_test_pred.head()"
   ]
  },
  {
   "cell_type": "markdown",
   "id": "7bdb65a0",
   "metadata": {},
   "source": [
    "- Assurance score calculation"
   ]
  },
  {
   "cell_type": "code",
   "execution_count": 893,
   "id": "c3880655",
   "metadata": {},
   "outputs": [],
   "source": [
    "# Code from calc_tsr_assurance_score function at https://github.com/Cognomotiv/pycimtools/blob/main/src/pycimtools/chase/reg.py\n",
    "\n",
    "def weighted_average(x, w):\n",
    "\n",
    "    assert len(x) == len(w)\n",
    "    numerator = sum([x[i] * w[i] for i in range(len(x))])\n",
    "    denominator = sum(w)\n",
    "    return numerator / denominator\n",
    "\n",
    "\n",
    "def calc_tsr_assurance_score(row, mae_scale):\n",
    "    std = [idx for idx, name in enumerate(row.index) if 'std' in name]\n",
    "    #cert = [idx for idx, name in enumerate(row.index) if 'cert' in name]\n",
    "    r_square = [idx for idx, name in enumerate(row.index) if 'r_square' in name][0]\n",
    "    mae = [idx for idx, name in enumerate(row.index) if 'mae' in name][0]\n",
    "\n",
    "    factors = []\n",
    "    if len(std) > 0:\n",
    "        factors.append(max(0, 1 - row.iloc[std[0]]))\n",
    "    #if len(cert) > 0:\n",
    "        #factors.append(row.iloc[cert[0]])\n",
    "    factors.extend([row.iloc[r_square], 1 - row.iloc[mae] / mae_scale])\n",
    "\n",
    "    weights = [1] * len(factors)\n",
    "    assurance = weighted_average(factors, weights)\n",
    "\n",
    "    return round(assurance, 4)\n",
    "\n",
    "def calc_tsr_assurance_score_new(row, mae_scale):\n",
    "    std = [idx for idx, name in enumerate(row.index) if 'std' in name]\n",
    "    chase_width = [idx for idx, name in enumerate(row.index) if 'chase_width' in name]\n",
    "    r_square = [idx for idx, name in enumerate(row.index) if 'r_square' in name][0]\n",
    "    mae = [idx for idx, name in enumerate(row.index) if 'mae' in name][0]\n",
    "    chase_width = [idx for idx, name in enumerate(row.index) if 'chase_width' in name]\n",
    "\n",
    "    factors = []\n",
    "    if len(std) > 0:\n",
    "        factors.append(max(0, 1 - row.iloc[std[0]]))\n",
    "    if len(chase_width) > 0:\n",
    "        factors.append(row.iloc[chase_width[0]])\n",
    "    factors.extend([row.iloc[r_square], 1 - row.iloc[mae] / mae_scale])\n",
    "\n",
    "    weights = [1] * len(factors)\n",
    "    assurance = weighted_average(factors, weights)\n",
    "\n",
    "    return round(assurance, 4)\n",
    "\n",
    "def assurance_score_calc(df):\n",
    "    assurance_scores_initial = []\n",
    "    assurance_scores_new = []\n",
    "    for index, row in df.iterrows():\n",
    "        assurance_scores_initial.append(calc_tsr_assurance_score(row, mae_scale))\n",
    "        assurance_scores_new.append(calc_tsr_assurance_score_new(row, mae_scale))\n",
    "    return assurance_scores_initial, assurance_scores_new"
   ]
  },
  {
   "cell_type": "code",
   "execution_count": 894,
   "id": "f7b4fe4a",
   "metadata": {},
   "outputs": [],
   "source": [
    "mae_scale = 365*5  # maximum can be 5 years \n",
    "#[test_scores_initial, test_scores_new]  = assurance_score_calc(DT_test_pred)\n",
    "#[infer_scores_initial, infer_scores_new] = assurance_score_calc(chase_true)\n",
    "\n",
    "[test_scores_initial, test_scores_new]  = assurance_score_calc(DT_test_pred)\n",
    "[infer_scores_initial, infer_scores_new] = assurance_score_calc(chase_true)"
   ]
  },
  {
   "cell_type": "markdown",
   "id": "ef256052",
   "metadata": {},
   "source": [
    "CHASE evaluation"
   ]
  },
  {
   "cell_type": "markdown",
   "id": "9043e059",
   "metadata": {},
   "source": [
    "- Infer set"
   ]
  },
  {
   "cell_type": "code",
   "execution_count": 838,
   "id": "d574e82d",
   "metadata": {},
   "outputs": [],
   "source": [
    "#If the difference between predicted value and ground truth is >50 then prediction is wrong\n",
    "\n",
    "chase_eval_infer = pd.DataFrame()\n",
    "chase_eval_infer['true_labels'] = abs(chase_true.prediction - chase_true.lifetime)<50\n",
    "chase_eval_infer['chase_initial'] = pd.Series(infer_scores_initial)>0.5\n",
    "chase_eval_infer['chase_cv'] = pd.Series(infer_scores_new)>0.5"
   ]
  },
  {
   "cell_type": "code",
   "execution_count": 839,
   "id": "f41df6e8",
   "metadata": {},
   "outputs": [
    {
     "data": {
      "text/plain": [
       "true_labels\n",
       "False    1102\n",
       "True       78\n",
       "Name: count, dtype: int64"
      ]
     },
     "execution_count": 839,
     "metadata": {},
     "output_type": "execute_result"
    }
   ],
   "source": [
    "chase_eval_infer.true_labels.value_counts()"
   ]
  },
  {
   "cell_type": "code",
   "execution_count": 840,
   "id": "4f79a591",
   "metadata": {},
   "outputs": [
    {
     "data": {
      "text/plain": [
       "chase_cv\n",
       "False    778\n",
       "True     402\n",
       "Name: count, dtype: int64"
      ]
     },
     "execution_count": 840,
     "metadata": {},
     "output_type": "execute_result"
    }
   ],
   "source": [
    "chase_eval_infer.chase_cv.value_counts()"
   ]
  },
  {
   "cell_type": "code",
   "execution_count": 841,
   "id": "879ef76f",
   "metadata": {},
   "outputs": [
    {
     "data": {
      "text/plain": [
       "chase_initial\n",
       "True    1180\n",
       "Name: count, dtype: int64"
      ]
     },
     "execution_count": 841,
     "metadata": {},
     "output_type": "execute_result"
    }
   ],
   "source": [
    "chase_eval_infer.chase_initial.value_counts()"
   ]
  },
  {
   "cell_type": "markdown",
   "id": "0fc4c31c",
   "metadata": {},
   "source": [
    "- Test set"
   ]
  },
  {
   "cell_type": "code",
   "execution_count": 946,
   "id": "8a5e2f8a",
   "metadata": {},
   "outputs": [],
   "source": [
    "chase_eval_test = pd.DataFrame()\n",
    "chase_eval_test['true_labels'] = abs(DT_test_pred.prediction - DT_test_pred.y_true)<50\n",
    "#chase_eval_test['true_labels'] = abs(GP_test_pred.prediction - GP_test_pred.y_true)<50\n",
    "chase_eval_test['chase_initial'] = pd.Series(test_scores_initial)>0.5\n",
    "chase_eval_test['chase_cv'] = pd.Series(test_scores_new)>0.5"
   ]
  },
  {
   "cell_type": "code",
   "execution_count": 947,
   "id": "57ffb8cc",
   "metadata": {},
   "outputs": [
    {
     "data": {
      "text/plain": [
       "true_labels\n",
       "False    276\n",
       "True     118\n",
       "Name: count, dtype: int64"
      ]
     },
     "execution_count": 947,
     "metadata": {},
     "output_type": "execute_result"
    }
   ],
   "source": [
    "chase_eval_test.true_labels.value_counts()"
   ]
  },
  {
   "cell_type": "code",
   "execution_count": 948,
   "id": "d5841b3d",
   "metadata": {},
   "outputs": [
    {
     "data": {
      "text/plain": [
       "chase_initial\n",
       "True    394\n",
       "Name: count, dtype: int64"
      ]
     },
     "execution_count": 948,
     "metadata": {},
     "output_type": "execute_result"
    }
   ],
   "source": [
    "chase_eval_test.chase_initial.value_counts()"
   ]
  },
  {
   "cell_type": "code",
   "execution_count": 949,
   "id": "caea0ac4",
   "metadata": {},
   "outputs": [
    {
     "data": {
      "text/plain": [
       "chase_cv\n",
       "True     388\n",
       "False      6\n",
       "Name: count, dtype: int64"
      ]
     },
     "execution_count": 949,
     "metadata": {},
     "output_type": "execute_result"
    }
   ],
   "source": [
    "chase_eval_test.chase_cv.value_counts()"
   ]
  },
  {
   "cell_type": "code",
   "execution_count": 901,
   "id": "eb87ebef",
   "metadata": {},
   "outputs": [],
   "source": [
    "# Evaluate chase (function from https://github.com/Cognomotiv/pycimtools/blob/main/src/pycimtools/chase/eval.py)\n",
    "\n",
    "def calc_assurance_eval_clf(true_acc, pred_acc,assurance):\n",
    "    \n",
    "    '''Computes some evaluation metrics for an assurance-based 'meta-classifier'\n",
    "\n",
    "    Parameters\n",
    "    ----------\n",
    "    true_acc: numpy array or list of integers\n",
    "        an array of binary accuracies (for a CIM)\n",
    "    pred_acc:\n",
    "        an array of binary \"predicted accuracies\" (thresholded assurance scores)\n",
    "    assurance: numpy array or list of floats\n",
    "        an array of assurance scores (between 0 and 1)\n",
    "\n",
    "    Returns\n",
    "    -------\n",
    "    f1, auc, pbsr, logloss: tuple of floats\n",
    "        a tuple of F1, ROC-AUC, Point-biserial correlation, and Log-Loss scores.\n",
    "    '''\n",
    "    \n",
    "    f1 = f1_score(true_acc, pred_acc)\n",
    "    auc = roc_auc_score(true_acc, assurance)\n",
    "    #pbsr = pointbiserialr(true_acc, assurance).correlation\n",
    "    logloss = log_loss(true_acc, assurance)\n",
    "    return f1, auc, logloss"
   ]
  },
  {
   "cell_type": "markdown",
   "id": "a2a547c9",
   "metadata": {},
   "source": [
    "- Test"
   ]
  },
  {
   "cell_type": "code",
   "execution_count": 950,
   "id": "d8ee6367",
   "metadata": {},
   "outputs": [],
   "source": [
    "[f1_init, auc_init, logloss_init]= calc_assurance_eval_clf(chase_eval_test.true_labels, chase_eval_test.chase_initial, test_scores_initial)\n",
    "[f1_cv, auc_cv, logloss_cv]= calc_assurance_eval_clf(chase_eval_test.true_labels, chase_eval_test.chase_cv, test_scores_new)"
   ]
  },
  {
   "cell_type": "code",
   "execution_count": 951,
   "id": "b811fb23",
   "metadata": {},
   "outputs": [],
   "source": [
    "columns = ['f1', 'auc', 'logloss']\n",
    "chase_eval_df = pd.DataFrame(columns = columns)"
   ]
  },
  {
   "cell_type": "code",
   "execution_count": 952,
   "id": "31cb7cad",
   "metadata": {},
   "outputs": [],
   "source": [
    "chase_eval_df.loc['Initial'] = [f1_init, auc_init, logloss_init]\n",
    "chase_eval_df.loc['New'] = [f1_cv, auc_cv, logloss_cv]"
   ]
  },
  {
   "cell_type": "code",
   "execution_count": 953,
   "id": "511d7e85",
   "metadata": {},
   "outputs": [
    {
     "data": {
      "text/html": [
       "<div>\n",
       "<style scoped>\n",
       "    .dataframe tbody tr th:only-of-type {\n",
       "        vertical-align: middle;\n",
       "    }\n",
       "\n",
       "    .dataframe tbody tr th {\n",
       "        vertical-align: top;\n",
       "    }\n",
       "\n",
       "    .dataframe thead th {\n",
       "        text-align: right;\n",
       "    }\n",
       "</style>\n",
       "<table border=\"1\" class=\"dataframe\">\n",
       "  <thead>\n",
       "    <tr style=\"text-align: right;\">\n",
       "      <th></th>\n",
       "      <th>f1</th>\n",
       "      <th>auc</th>\n",
       "      <th>logloss</th>\n",
       "    </tr>\n",
       "  </thead>\n",
       "  <tbody>\n",
       "    <tr>\n",
       "      <th>Initial</th>\n",
       "      <td>0.460938</td>\n",
       "      <td>0.50000</td>\n",
       "      <td>0.805172</td>\n",
       "    </tr>\n",
       "    <tr>\n",
       "      <th>New</th>\n",
       "      <td>0.466403</td>\n",
       "      <td>0.59755</td>\n",
       "      <td>0.938644</td>\n",
       "    </tr>\n",
       "  </tbody>\n",
       "</table>\n",
       "</div>"
      ],
      "text/plain": [
       "               f1      auc   logloss\n",
       "Initial  0.460938  0.50000  0.805172\n",
       "New      0.466403  0.59755  0.938644"
      ]
     },
     "execution_count": 953,
     "metadata": {},
     "output_type": "execute_result"
    }
   ],
   "source": [
    "chase_eval_df"
   ]
  },
  {
   "cell_type": "markdown",
   "id": "8d58c93e",
   "metadata": {},
   "source": [
    "- Infer"
   ]
  },
  {
   "cell_type": "code",
   "execution_count": 860,
   "id": "301c02cd",
   "metadata": {},
   "outputs": [],
   "source": [
    "[f1_init, auc_init, logloss_init]= calc_assurance_eval_clf(chase_eval_infer.true_labels, chase_eval_infer.chase_initial, infer_scores_initial)\n",
    "[f1_cv, auc_cv, logloss_cv]= calc_assurance_eval_clf(chase_eval_infer.true_labels, chase_eval_infer.chase_cv, infer_scores_new)"
   ]
  },
  {
   "cell_type": "code",
   "execution_count": 861,
   "id": "dba71af6",
   "metadata": {},
   "outputs": [],
   "source": [
    "columns = ['f1', 'auc', 'logloss']\n",
    "chase_eval_df = pd.DataFrame(columns = columns)"
   ]
  },
  {
   "cell_type": "code",
   "execution_count": 862,
   "id": "e9a27659",
   "metadata": {},
   "outputs": [],
   "source": [
    "chase_eval_df.loc['Initial'] = [f1_init, auc_init, logloss_init]\n",
    "chase_eval_df.loc['New'] = [f1_cv, auc_cv, logloss_cv]"
   ]
  },
  {
   "cell_type": "code",
   "execution_count": 863,
   "id": "80d5bd9e",
   "metadata": {},
   "outputs": [
    {
     "data": {
      "text/html": [
       "<div>\n",
       "<style scoped>\n",
       "    .dataframe tbody tr th:only-of-type {\n",
       "        vertical-align: middle;\n",
       "    }\n",
       "\n",
       "    .dataframe tbody tr th {\n",
       "        vertical-align: top;\n",
       "    }\n",
       "\n",
       "    .dataframe thead th {\n",
       "        text-align: right;\n",
       "    }\n",
       "</style>\n",
       "<table border=\"1\" class=\"dataframe\">\n",
       "  <thead>\n",
       "    <tr style=\"text-align: right;\">\n",
       "      <th></th>\n",
       "      <th>f1</th>\n",
       "      <th>auc</th>\n",
       "      <th>logloss</th>\n",
       "    </tr>\n",
       "  </thead>\n",
       "  <tbody>\n",
       "    <tr>\n",
       "      <th>Initial</th>\n",
       "      <td>0.124006</td>\n",
       "      <td>0.500000</td>\n",
       "      <td>0.827192</td>\n",
       "    </tr>\n",
       "    <tr>\n",
       "      <th>New</th>\n",
       "      <td>0.175000</td>\n",
       "      <td>0.625494</td>\n",
       "      <td>0.718003</td>\n",
       "    </tr>\n",
       "  </tbody>\n",
       "</table>\n",
       "</div>"
      ],
      "text/plain": [
       "               f1       auc   logloss\n",
       "Initial  0.124006  0.500000  0.827192\n",
       "New      0.175000  0.625494  0.718003"
      ]
     },
     "execution_count": 863,
     "metadata": {},
     "output_type": "execute_result"
    }
   ],
   "source": [
    "chase_eval_df"
   ]
  },
  {
   "cell_type": "markdown",
   "id": "67a9cc3f",
   "metadata": {},
   "source": [
    "Conclusions:\n",
    "\n",
    "- The confidence intervals are very wide and that provides the information that the model does not do a good job on predicting the remaining battery life of unseen data. This conclusion agrees with what we knew so far.\n",
    "- Adding the width of the confidence intervals as a factor in assurance score has a small improvement in some KPIs when evaluating CHASE.\n",
    "- We observe that in tis case the distribution of the widths is concentrated around a particular interval of values and there is not much variability. In cases with more variability we expect more improvement in the KPIs. Consider different scaling method\n",
    "- This method might be slow because we are training a model multiple times \n",
    "- The confidence intervals can be provided along with assurance scores "
   ]
  },
  {
   "cell_type": "code",
   "execution_count": null,
   "id": "16608a98",
   "metadata": {},
   "outputs": [],
   "source": []
  }
 ],
 "metadata": {
  "kernelspec": {
   "display_name": "Python 3 (ipykernel)",
   "language": "python",
   "name": "python3"
  },
  "language_info": {
   "codemirror_mode": {
    "name": "ipython",
    "version": 3
   },
   "file_extension": ".py",
   "mimetype": "text/x-python",
   "name": "python",
   "nbconvert_exporter": "python",
   "pygments_lexer": "ipython3",
   "version": "3.11.4"
  }
 },
 "nbformat": 4,
 "nbformat_minor": 5
}
